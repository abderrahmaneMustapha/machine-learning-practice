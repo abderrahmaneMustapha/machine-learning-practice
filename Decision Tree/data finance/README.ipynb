{
 "nbformat": 4,
 "nbformat_minor": 2,
 "metadata": {
  "language_info": {
   "name": "python",
   "codemirror_mode": {
    "name": "ipython",
    "version": 3
   },
   "version": "3.7.4-final"
  },
  "orig_nbformat": 2,
  "file_extension": ".py",
  "mimetype": "text/x-python",
  "name": "python",
  "npconvert_exporter": "python",
  "pygments_lexer": "ipython3",
  "version": 3,
  "kernelspec": {
   "name": "python3",
   "display_name": "Python 3"
  }
 },
 "cells": [
  {
   "cell_type": "code",
   "execution_count": 0,
   "metadata": {},
   "outputs": [],
   "source": [
    "import os\n",
    "import numpy as np \n",
    "import pandas as pd \n",
    "import matplotlib.pyplot as plt\n",
    "from sklearn import tree, metrics\n",
    "\n",
    "data = pd.read_csv(\"Train_v2.csv\")\n",
    "\n",
    "data.info()"
   ]
  },
  {
   "cell_type": "code",
   "execution_count": 0,
   "metadata": {},
   "outputs": [],
   "source": [
    "data = data.drop(['uniqueid'], axis=1)"
   ]
  },
  {
   "cell_type": "code",
   "execution_count": 0,
   "metadata": {},
   "outputs": [],
   "source": [
    "data.head()"
   ]
  },
  {
   "cell_type": "code",
   "execution_count": 0,
   "metadata": {},
   "outputs": [],
   "source": [
    "data.shape"
   ]
  },
  {
   "cell_type": "code",
   "execution_count": 0,
   "metadata": {},
   "outputs": [],
   "source": [
    "class_names = data['bank_account']\n",
    "data['bank_account'], _ = pd.factorize(data['bank_account'])\n",
    "\n"
   ]
  },
  {
   "cell_type": "code",
   "execution_count": 0,
   "metadata": {},
   "outputs": [],
   "source": [
    "data['bank_account'], _ = pd.factorize(data['bank_account'])\n",
    "data['country'],_ = pd.factorize(data['country'])\n",
    "data['year'],_ = pd.factorize(data['year'])\n",
    "data['location_type'],_ = pd.factorize(data['location_type'])\n",
    "data['cellphone_access'],_ = pd.factorize(data['cellphone_access'])\n",
    "data['household_size'],_ = pd.factorize(data['household_size'])\n",
    "data['age_of_respondent'],_ = pd.factorize(data['age_of_respondent'])\n",
    "data['gender_of_respondent'],_ = pd.factorize(data['gender_of_respondent'])\n",
    "data['relationship_with_head'],_ = pd.factorize(data['relationship_with_head'])\n",
    "data['marital_status'],_ = pd.factorize(data['marital_status'])\n",
    "data['education_level'],_ = pd.factorize(data['education_level'])\n",
    "data['job_type'],_ = pd.factorize(data['job_type'])\n",
    "data.head()"
   ]
  },
  {
   "cell_type": "code",
   "execution_count": 0,
   "metadata": {},
   "outputs": [],
   "source": [
    "data.info()"
   ]
  },
  {
   "cell_type": "code",
   "execution_count": 0,
   "metadata": {},
   "outputs": [],
   "source": [
    "\n",
    "data.shape"
   ]
  },
  {
   "cell_type": "code",
   "execution_count": 0,
   "metadata": {},
   "outputs": [],
   "source": [
    "x = data.loc[:, data.columns != 'bank_account']\n",
    "y = data['bank_account']\n",
    "y\n"
   ]
  },
  {
   "cell_type": "code",
   "execution_count": 0,
   "metadata": {},
   "outputs": [],
   "source": [
    "x.info()\n"
   ]
  },
  {
   "cell_type": "code",
   "execution_count": 0,
   "metadata": {},
   "outputs": [],
   "source": [
    "from sklearn.model_selection import train_test_split\n",
    "X_train, X_test, y_train, y_test = train_test_split(x,y,test_size = 0.3, random_state = 0)"
   ]
  },
  {
   "cell_type": "code",
   "execution_count": 0,
   "metadata": {},
   "outputs": [],
   "source": [
    "dtree = tree.DecisionTreeClassifier(criterion='gini', max_depth=4, random_state=0)\n",
    "dtree.fit(X_train, y_train)\n",
    "\n",
    "#use the model to make prediction\n",
    "y_pred = dtree.predict(X_test)\n",
    "count_misclassified = (y_test != y_pred).sum()\n",
    "print('Misclassified samples: {}'.format(count_misclassified))"
   ]
  },
  {
   "cell_type": "code",
   "execution_count": 0,
   "metadata": {},
   "outputs": [],
   "source": [
    "accuracy = metrics.accuracy_score(y_test, y_pred)\n",
    "print('Accuracy: {:.2f}'.format(accuracy))"
   ]
  },
  {
   "cell_type": "code",
   "execution_count": 0,
   "metadata": {},
   "outputs": [],
   "source": [
    "import graphviz\n",
    "feature_names = x.columns\n",
    "dot_data = tree.export_graphviz(dtree, out_file=None, filled=True, rounded=True,\n",
    "feature_names=feature_names,\n",
    "class_names=class_names)\n",
    "import os\n",
    "os.environ[\"PATH\"] += os.pathsep + 'C:/Users/icom/.conda/pkgs/graphviz-2.38-hfd603c8_2/Library/bin/graphviz'\n",
    "graph = graphviz.Source(dot_data)\n",
    "graph"
   ]
  }
 ]
}